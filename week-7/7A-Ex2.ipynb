{
 "metadata": {
  "name": "",
  "signature": "sha256:cab7659d60fd6449311f2049bb1ce1403f07e1b27823a4a1ea692dc7f9243673"
 },
 "nbformat": 3,
 "nbformat_minor": 0,
 "worksheets": [
  {
   "cells": [
    {
     "cell_type": "markdown",
     "metadata": {},
     "source": [
      "Here are eight strings that represent sets:"
     ]
    },
    {
     "cell_type": "code",
     "collapsed": false,
     "input": [
      "s1 = \"abcef\"\n",
      "s2 = \"acdeg\"\n",
      "s3 = \"bcdefg\"\n",
      "s4 = \"adfg\"\n",
      "s5 = \"bcdfgh\"\n",
      "s6 = \"bceg\"\n",
      "s7 = \"cdfg\"\n",
      "s8 = \"abcd\""
     ],
     "language": "python",
     "metadata": {},
     "outputs": [],
     "prompt_number": 3
    },
    {
     "cell_type": "markdown",
     "metadata": {},
     "source": [
      "Suppose our upper limit on Jaccard distance is 0.2"
     ]
    },
    {
     "cell_type": "code",
     "collapsed": false,
     "input": [
      "J = 0.2"
     ],
     "language": "python",
     "metadata": {},
     "outputs": [],
     "prompt_number": 4
    },
    {
     "cell_type": "markdown",
     "metadata": {},
     "source": [
      "and we use the indexing scheme based on **symbols appearing in the prefix** (no position or length information)"
     ]
    },
    {
     "cell_type": "markdown",
     "metadata": {},
     "source": [
      "For each of s1, s3, and s6, determine how many other strings that string will be compared with, if it is used as the probe string."
     ]
    },
    {
     "cell_type": "code",
     "collapsed": false,
     "input": [
      "import numpy as np\n",
      "\n",
      "def prefix(string, J):\n",
      "    return int(np.floor(len(string) * J + 1))\n",
      "    \n",
      "p1 = prefix(s1, J)\n",
      "p3 = prefix(s3, J)\n",
      "p6 = prefix(s6, J)"
     ],
     "language": "python",
     "metadata": {},
     "outputs": [],
     "prompt_number": 11
    },
    {
     "cell_type": "code",
     "collapsed": false,
     "input": [
      "s = [s1, s2, s3, s4, s5, s6, s7, s8]\n",
      "p = map(lambda s: prefix(s, J), s)\n",
      "\n",
      "print p"
     ],
     "language": "python",
     "metadata": {},
     "outputs": [
      {
       "output_type": "stream",
       "stream": "stdout",
       "text": [
        "[2, 2, 2, 1, 2, 1, 1, 1]\n"
       ]
      }
     ],
     "prompt_number": 12
    },
    {
     "cell_type": "markdown",
     "metadata": {},
     "source": [
      " Then, identify the true count from the list below."
     ]
    },
    {
     "cell_type": "markdown",
     "metadata": {},
     "source": [
      "A. s6 is compared with 5 other strings.\n",
      "B. s6 is compared with 6 other strings.\n",
      "C. s1 is compared with 6 other strings.\n",
      "D. s1 is compared with 7 other strings."
     ]
    },
    {
     "cell_type": "code",
     "collapsed": false,
     "input": [
      "def build_index(strings):\n",
      "    index = {}\n",
      "    for s in strings:\n",
      "        for l in range(prefix(s, J)):\n",
      "            if s[l] in index:\n",
      "                index[s[l]].append(s)\n",
      "            else:\n",
      "                index[s[l]] = [s]\n",
      "            \n",
      "    return index"
     ],
     "language": "python",
     "metadata": {},
     "outputs": [],
     "prompt_number": 26
    },
    {
     "cell_type": "code",
     "collapsed": false,
     "input": [
      "index = build_index(s)"
     ],
     "language": "python",
     "metadata": {},
     "outputs": [],
     "prompt_number": 27
    },
    {
     "cell_type": "code",
     "collapsed": false,
     "input": [
      "print index"
     ],
     "language": "python",
     "metadata": {},
     "outputs": [
      {
       "output_type": "stream",
       "stream": "stdout",
       "text": [
        "{'a': ['abcef', 'acdeg', 'adfg', 'abcd'], 'c': ['acdeg', 'bcdefg', 'bcdfgh', 'cdfg'], 'b': ['abcef', 'bcdefg', 'bcdfgh', 'bceg']}\n"
       ]
      }
     ],
     "prompt_number": 28
    },
    {
     "cell_type": "markdown",
     "metadata": {},
     "source": [
      "Question: For each of s1, s3, and s6, determine how many other strings that string will be compared with, if it is used as the probe string."
     ]
    },
    {
     "cell_type": "code",
     "collapsed": false,
     "input": [
      "def lookup_count(index, s):\n",
      "    lookups = set(sum([index[s[l]] for l in range(prefix(s, J))], []))\n",
      "    lookups.remove(s)\n",
      "    return (len(lookups), lookups)"
     ],
     "language": "python",
     "metadata": {},
     "outputs": [],
     "prompt_number": 53
    },
    {
     "cell_type": "code",
     "collapsed": false,
     "input": [
      "print lookup_count(index, s1)\n",
      "print s1"
     ],
     "language": "python",
     "metadata": {},
     "outputs": [
      {
       "output_type": "stream",
       "stream": "stdout",
       "text": [
        "(6, set(['abcd', 'bcdfgh', 'acdeg', 'adfg', 'bceg', 'bcdefg']))\n",
        "abcef\n"
       ]
      }
     ],
     "prompt_number": 54
    },
    {
     "cell_type": "code",
     "collapsed": false,
     "input": [
      "for s in [s1, s3, s6]:\n",
      "    print lookup_count(index, s)"
     ],
     "language": "python",
     "metadata": {},
     "outputs": [
      {
       "output_type": "stream",
       "stream": "stdout",
       "text": [
        "(6, set(['abcd', 'bcdfgh', 'acdeg', 'adfg', 'bceg', 'bcdefg']))\n",
        "(5, set(['cdfg', 'abcef', 'bcdfgh', 'acdeg', 'bceg']))\n",
        "(3, set(['bcdfgh', 'abcef', 'bcdefg']))\n"
       ]
      }
     ],
     "prompt_number": 55
    }
   ],
   "metadata": {}
  }
 ]
}