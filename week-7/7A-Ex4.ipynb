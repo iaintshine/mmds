{
 "metadata": {
  "name": "",
  "signature": "sha256:03dae357f6847d5cfad0bf451261d767bc3f851c2fe46cd51f67ddee3b49170d"
 },
 "nbformat": 3,
 "nbformat_minor": 0,
 "worksheets": [
  {
   "cells": [
    {
     "cell_type": "markdown",
     "metadata": {},
     "source": [
      "**N - nr of nodes** i.e. web pages\n",
      "\n",
      "Each node Ni has on average, **20 links**\n",
      "\n",
      "Divide rank vector into **k blocks**\n",
      "\n",
      "Divide matrix M into **k stripes**\n",
      "\n",
      "Each line of **M in the format [source_id, degree, m, dest_1, ..., dest_m]**\n",
      "\n",
      "**m - nr of destination nodes in this stripe** (no more than degree)\n",
      "\n",
      "All entries are encoded using **4 bytes** i.e. source_id, degree, identifiers\n",
      "\n",
      "There is an additional detail we need to account for, namely, locality of links. As a very simple model, assume that we divide web pages into two disjoint sets:\n",
      "\n",
      "* **Introvert pages**, which link only to other pages within the same host as themselves.\n",
      "* **Extrovert pages**, which have links to pages across several hosts.\n",
      "\n",
      "Assume a **fraction x of pages**.\n",
      "\n",
      "**Construct a formula that counts the amount of I/O per page rank iteration in terms of N, x, and k.**"
     ]
    },
    {
     "cell_type": "code",
     "collapsed": false,
     "input": [
      "import numpy as np\n",
      "\n",
      "def as_GB(bytes):\n",
      "    return int(np.ceil(bytes / (1024. * 1024 * 1024 )))\n",
      "\n",
      "def calc_block_stipe_bytes(N, x, k):\n",
      "    \"\"\"Calculates number of bytes required per page rank iteration using Block-Stripe Algorithm\n",
      "    \n",
      "    Keyword arguments:\n",
      "    N - nr of nodes\n",
      "    x - fraction of web pages\n",
      "    k - blocks/stripes\n",
      "    \n",
      "    returns number of bytes required\n",
      "    \"\"\"\n",
      "    \n",
      "    ENTRY_SIZE = 4\n",
      "    N_LINKS_PER_NODE = 20\n",
      "    M_LINE_SIZE = ENTRY_SIZE * (1 + 1 + 1 + N_LINKS_PER_NODE)\n",
      "    \n",
      "    # Calculated using formula:\n",
      "    #     k|M| + (k+1)|r|\n",
      "    #\n",
      "    M_bytes = N * M_LINE_SIZE * x\n",
      "    r_bytes = N * ENTRY_SIZE * x\n",
      "    \n",
      "    return as_GB(k * M_bytes + (k + 1) * r_bytes)"
     ],
     "language": "python",
     "metadata": {},
     "outputs": [],
     "prompt_number": 30
    },
    {
     "cell_type": "markdown",
     "metadata": {},
     "source": [
      "The 4-tuples below list combinations of N, k, x, and I/O (in bytes). Pick the correct combination.\n",
      "\n",
      "1. N = 1 billion, k = 3, x = 0.75, 124GB\n",
      "2. N = 1 billion, k = 2, x = 0.5, 116GB\n",
      "3. N = 1 billion, k = 2, x = 0.75, 112GB\n",
      "4. N = 1 billion, k = 2, x = 0.5, 110GB"
     ]
    },
    {
     "cell_type": "code",
     "collapsed": false,
     "input": [
      "QA = [\n",
      " (1000000000, 3, 0.75, 124),\n",
      " (1000000000, 2, 0.5,  116),\n",
      " (1000000000, 2, 0.75, 112),\n",
      " (1000000000, 2, 0.5,  110)\n",
      "]"
     ],
     "language": "python",
     "metadata": {},
     "outputs": [],
     "prompt_number": 31
    },
    {
     "cell_type": "code",
     "collapsed": false,
     "input": [
      "for i, qa in enumerate(QA):\n",
      "    bytes = calc_block_stipe_bytes(N = qa[0], k = qa[1], x = qa[2])\n",
      "    if bytes == qa[3]:\n",
      "        print \"proper answer nr: #\", i\n",
      "    else:\n",
      "        print \"found value: \", bytes"
     ],
     "language": "python",
     "metadata": {},
     "outputs": [
      {
       "output_type": "stream",
       "stream": "stdout",
       "text": [
        "found value:  76\n",
        "found value:  49\n",
        "found value:  73\n",
        "found value:  49\n"
       ]
      }
     ],
     "prompt_number": 32
    },
    {
     "cell_type": "code",
     "collapsed": false,
     "input": [],
     "language": "python",
     "metadata": {},
     "outputs": []
    }
   ],
   "metadata": {}
  }
 ]
}