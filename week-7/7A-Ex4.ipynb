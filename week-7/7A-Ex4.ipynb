{
 "metadata": {
  "name": "",
  "signature": "sha256:ecd028c1a70accf9002f4ad9fd019042de2a365c130c41f071aa883dd6626f77"
 },
 "nbformat": 3,
 "nbformat_minor": 0,
 "worksheets": [
  {
   "cells": [
    {
     "cell_type": "markdown",
     "metadata": {},
     "source": [
      "**N - nr of nodes** i.e. web pages\n",
      "\n",
      "Each node Ni has on average, **20 links**\n",
      "\n",
      "Divide rank vector into **k blocks**\n",
      "\n",
      "Divide matrix M into **k stripes**\n",
      "\n",
      "Each line of **M in the format [source_id, degree, m, dest_1, ..., dest_m]**\n",
      "\n",
      "**m - nr of destination nodes in this stripe** (no more than degree)\n",
      "\n",
      "All entries are encoded using **4 bytes** i.e. source_id, degree, identifiers\n",
      "\n",
      "There is an additional detail we need to account for, namely, locality of links. As a very simple model, assume that we divide web pages into two disjoint sets:\n",
      "\n",
      "* **Introvert pages**, which link only to other pages within the same host as themselves.\n",
      "* **Extrovert pages**, which have links to pages across several hosts.\n",
      "\n",
      "Assume a **fraction x of introvert pages**.\n",
      "\n",
      "**Construct a formula that counts the amount of I/O per page rank iteration in terms of N, x, and k.**"
     ]
    },
    {
     "cell_type": "code",
     "collapsed": false,
     "input": [
      "import numpy as np"
     ],
     "language": "python",
     "metadata": {},
     "outputs": [],
     "prompt_number": 1
    },
    {
     "cell_type": "code",
     "collapsed": false,
     "input": [
      "def as_GB(bytes):\n",
      "    return int(np.ceil(bytes / (1024. * 1024 * 1024 )))"
     ],
     "language": "python",
     "metadata": {},
     "outputs": [],
     "prompt_number": 2
    },
    {
     "cell_type": "code",
     "collapsed": false,
     "input": [
      "def calc_block_stipe_bytes(N, epsilon, k):\n",
      "    \"\"\"Calculates number of bytes required per page rank iteration using Block-Stripe Algorithm\n",
      "    using very simple folmula:\n",
      "    \n",
      "        |M|(1+epsilon) + (k+1)|r|\n",
      "    \n",
      "    Keyword arguments:\n",
      "    N - nr of nodes\n",
      "    epsilon - nr of additional overhead\n",
      "    k - blocks/stripes\n",
      "    \n",
      "    returns number of bytes required\n",
      "    \"\"\"\n",
      "    \n",
      "    ENTRY_SIZE = 4\n",
      "    N_LINKS_PER_NODE = 20\n",
      "    M_LINE_SIZE = ENTRY_SIZE * (1 + 1 + 1 + N_LINKS_PER_NODE)\n",
      "    \n",
      "    # Calculated using formula:\n",
      "    #     \u0083 |M|(1+epsilon) + (k+1)|r|\n",
      "    #\n",
      "    M_bytes = N * M_LINE_SIZE\n",
      "    r_bytes = N * ENTRY_SIZE\n",
      "    \n",
      "    return (1 + epsilon) * M_bytes + (k + 1) * r_bytes"
     ],
     "language": "python",
     "metadata": {},
     "outputs": [],
     "prompt_number": 3
    },
    {
     "cell_type": "markdown",
     "metadata": {},
     "source": [
      "pagerank vector I/O bytes read and write = 4*(k+1)*N\n",
      "introvert pages I/O bytes = 4*32*x*N\n",
      "extrovert pages I/O bytes = 4*(3+20/k)*(1-x)*k*N =>\n",
      "\n",
      "4[(k+1)N + 23 xN + (3 +20/k)(1-x)*k*N] => we multiply inside last component by k\n",
      "4[(k+1)N + 23 xN + (3k +20)(1-x)*N] => now we divide by N since 1GB ~ 10^9 bytes => N\n",
      "4[(k+1) + 23x + (3k + 20)(1-x)] =>\n",
      "4[k + 1 + 23x + 3k - 3kx + 20 - 20x] =>\n",
      "4[21 + 4k + 3x - 3kx] =>\n",
      "4[21 + 4k + 3 (x - xk)]"
     ]
    },
    {
     "cell_type": "code",
     "collapsed": false,
     "input": [
      "def calc_block_stipe_io_bytes(N, x, k):\n",
      "    \"\"\"Calculates number of I/O bytes required per page rank iteration using Block-Stripe Algorithm\n",
      "    using formula:\n",
      "    \n",
      "        4[21 + 4k + 3 (x - xk)]\n",
      "    \n",
      "    Keyword arguments:\n",
      "    N - nr of nodes\n",
      "    x - fraction of introvert web pages\n",
      "    k - blocks/stripes\n",
      "    \n",
      "    returns number of I/O in GB\n",
      "    \"\"\"\n",
      "    \n",
      "    ENTRY_SIZE = 4\n",
      "    \n",
      "    return ENTRY_SIZE*(21 + 4 * k + 3 * (x - x*k))"
     ],
     "language": "python",
     "metadata": {},
     "outputs": [],
     "prompt_number": 4
    },
    {
     "cell_type": "markdown",
     "metadata": {},
     "source": [
      "The 4-tuples below list combinations of N, k, x, and I/O (in bytes). Pick the correct combination.\n",
      "\n",
      "1. N = 1 billion, k = 2, x = 0.5, 110GB\n",
      "2. N = 1 billion, k = 2, x = 0.5, 112GB\n",
      "3. N = 1 billion, k = 3, x = 0.5, 124GB\n",
      "4. N = 1 billion, k = 2, x = 0.5, 116GB"
     ]
    },
    {
     "cell_type": "code",
     "collapsed": false,
     "input": [
      "QA = [\n",
      " (1000000000, 2, 0.5,  110),\n",
      " (1000000000, 2, 0.5,  112),\n",
      " (1000000000, 3, 0.5,  124),\n",
      " (1000000000, 2, 0.5,  116)\n",
      "]"
     ],
     "language": "python",
     "metadata": {},
     "outputs": [],
     "prompt_number": 8
    },
    {
     "cell_type": "code",
     "collapsed": false,
     "input": [
      "print \"block stripe formulation: |M|(1+epsilon) + (k+1)|r|\" \n",
      "\n",
      "for i, qa in enumerate(QA):\n",
      "    print \"size in GB\", as_GB(calc_block_stipe_bytes(N = qa[0], k = qa[1], epsilon = qa[2]))"
     ],
     "language": "python",
     "metadata": {},
     "outputs": [
      {
       "output_type": "stream",
       "stream": "stdout",
       "text": [
        "block stripe formulation: |M|(1+epsilon) + (k+1)|r|\n",
        "size in GB 140\n",
        "size in GB 140\n",
        "size in GB 144\n",
        "size in GB 140\n"
       ]
      }
     ],
     "prompt_number": 9
    },
    {
     "cell_type": "code",
     "collapsed": false,
     "input": [
      "for i, qa in enumerate(QA):\n",
      "    GB = calc_block_stipe_io_bytes(N = qa[0], k = qa[1], x = qa[2])\n",
      "    if GB == qa[3]:\n",
      "        print \"proper answer nr: #\", i + 1\n",
      "    else:\n",
      "        print \"found value: \", GB"
     ],
     "language": "python",
     "metadata": {},
     "outputs": [
      {
       "output_type": "stream",
       "stream": "stdout",
       "text": [
        "proper answer nr: # 1\n",
        "found value:  110.0\n",
        "found value:  120.0\n",
        "found value:  110.0\n"
       ]
      }
     ],
     "prompt_number": 10
    },
    {
     "cell_type": "code",
     "collapsed": false,
     "input": [],
     "language": "python",
     "metadata": {},
     "outputs": [],
     "prompt_number": 7
    }
   ],
   "metadata": {}
  }
 ]
}