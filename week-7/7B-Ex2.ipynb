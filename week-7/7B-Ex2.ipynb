{
 "metadata": {
  "name": "",
  "signature": "sha256:f7df30e718e9e9bad07a4a9c6fda7e4f2d74be0fc0c5889b522456b3c9c7defb"
 },
 "nbformat": 3,
 "nbformat_minor": 0,
 "worksheets": [
  {
   "cells": [
    {
     "cell_type": "markdown",
     "metadata": {},
     "source": [
      "t - target page, has only link to the k second-tier pages\n",
      "k - \"second-tier\" nodes act as intermediaries\n",
      "m - supporting pages\n",
      "each k links to m/k of the m supporting pages\n",
      "Each of the supporting pages links only to t"
     ]
    },
    {
     "cell_type": "code",
     "collapsed": false,
     "input": [
      "beta = .85"
     ],
     "language": "python",
     "metadata": {},
     "outputs": []
    },
    {
     "cell_type": "markdown",
     "metadata": {},
     "source": [
      "Question Explanation\n",
      "\n",
      "Let w be the PageRank of each of the second-tier pages, and let z be the PageRank of each of the supporting pages. Then the equations relating y, w, and z are:\n",
      "y = x + \u03b2zm + (1-\u03b2)/n\n",
      "w = \u03b2y/k + (1-\u03b2)/n\n",
      "z = \u03b2kw/m + (1-\u03b2)/n\n",
      "\n",
      "The first equation says that the PageRank of t is the external contribution x, plus \u03b2z (the amount of PageRank not taxed) times the number of supporting pages, plus (1-\u03b2)/n, which is the share of \"tax\" that every page gets. The second equation says that each second-tier page gets 1/k-th of the untaxed PageRank of t, plus its share of the tax. The third equation says each supporting page gets 1 part in m/k of the untaxed PageRank of the second-tier page that reaches that supporting page, plus its share of the tax.\n",
      "\n",
      "Begin by substituting for z in the first equation:\n",
      "\n",
      "y = x + \u03b22kw + \u03b2(1-\u03b2)m/n + (1-\u03b2)/n\n",
      "\n",
      "Now, substitute for w in the above:\n",
      "\n",
      "y = x + \u03b23y + \u03b2(1-\u03b2)m/n + \u03b22(1-\u03b2)k/n + (1-\u03b2)/n\n",
      "\n",
      "Neglect the last term (1-\u03b2)/n, per the directions in the statement of the problem. If we move the term \u03b23y to the left, and note that \u03b23 = (1-\u03b2)(1+\u03b2+&beta2), we get\n",
      "\n",
      "y = x/(1-\u03b23) + (\u03b2/(1+\u03b2+&beta2))(m/n) + (\u03b2/(1+\u03b2+&beta2))(k/n)\n",
      "\n",
      "For \u03b2 = 0.85, these coefficients evaluate to:\n",
      "\n",
      "y = 2.59x + 0.33(m/n) + 0.28(k/n)"
     ]
    },
    {
     "cell_type": "code",
     "collapsed": false,
     "input": [],
     "language": "python",
     "metadata": {},
     "outputs": []
    }
   ],
   "metadata": {}
  }
 ]
}