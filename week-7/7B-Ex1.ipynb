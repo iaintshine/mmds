{
 "metadata": {
  "name": "",
  "signature": "sha256:307ab89a70197354ce1f816528e3ef98df7907936a551f64c7798e013c513e7f"
 },
 "nbformat": 3,
 "nbformat_minor": 0,
 "worksheets": [
  {
   "cells": [
    {
     "cell_type": "markdown",
     "metadata": {},
     "source": [
      "Compute the Topic-Specific PageRank\n",
      "\n",
      "for following **Link Topology**\n",
      "1->2;1->3;2->1;3->4;4->3"
     ]
    },
    {
     "cell_type": "code",
     "collapsed": false,
     "input": [
      "links = [(1, 2), (1, 3), (2, 1), (3, 4), (4, 3)]"
     ],
     "language": "python",
     "metadata": {},
     "outputs": [],
     "prompt_number": 17
    },
    {
     "cell_type": "code",
     "collapsed": false,
     "input": [
      "# %install_ext https://raw.github.com/tkf/ipython-hierarchymagic/master/hierarchymagic.py\n",
      "#%load_ext hierarchymagic"
     ],
     "language": "python",
     "metadata": {},
     "outputs": [],
     "prompt_number": 18
    },
    {
     "cell_type": "markdown",
     "metadata": {},
     "source": [
      "Pages selected to teleport set are nodes 1 and 2"
     ]
    },
    {
     "cell_type": "code",
     "collapsed": false,
     "input": [
      "S = [1, 2]"
     ],
     "language": "python",
     "metadata": {},
     "outputs": [],
     "prompt_number": 19
    },
    {
     "cell_type": "markdown",
     "metadata": {},
     "source": [
      " the weight assigned for node 1 is twice that of node 2\n",
      " w1 = 2 * w2"
     ]
    },
    {
     "cell_type": "markdown",
     "metadata": {},
     "source": [
      "the teleport probability, (1 - beta), is 0.3"
     ]
    },
    {
     "cell_type": "code",
     "collapsed": false,
     "input": [
      "teleport_p = 0.3"
     ],
     "language": "python",
     "metadata": {},
     "outputs": [],
     "prompt_number": 20
    },
    {
     "cell_type": "markdown",
     "metadata": {},
     "source": [
      "teleport_p = 1 - beta \n",
      "beta = 1 - teleport_p"
     ]
    },
    {
     "cell_type": "code",
     "collapsed": false,
     "input": [
      "beta = 1 - teleport_p\n",
      "print \"beta = {0}\".format(beta)"
     ],
     "language": "python",
     "metadata": {},
     "outputs": [
      {
       "output_type": "stream",
       "stream": "stdout",
       "text": [
        "beta = 0.7\n"
       ]
      }
     ],
     "prompt_number": 21
    },
    {
     "cell_type": "markdown",
     "metadata": {},
     "source": [
      "Which of the following statements is correct?\n",
      "A. TSPR(2) = .7535\n",
      "B. TSPR(3) = .9097\n",
      "C. TSPR(1) = .3576\n",
      "D. TSPR(3) = .1092"
     ]
    },
    {
     "cell_type": "code",
     "collapsed": false,
     "input": [
      "TSPR = [(2, .7535), (3, .9097), (1, .3576), (3, .1092)]"
     ],
     "language": "python",
     "metadata": {},
     "outputs": [],
     "prompt_number": 22
    },
    {
     "cell_type": "code",
     "collapsed": false,
     "input": [
      "import numpy as np"
     ],
     "language": "python",
     "metadata": {},
     "outputs": [],
     "prompt_number": 68
    },
    {
     "cell_type": "code",
     "collapsed": false,
     "input": [
      "def norm1(v):\n",
      "    return np.linalg.norm(v, ord=1)"
     ],
     "language": "python",
     "metadata": {},
     "outputs": [],
     "prompt_number": 69
    },
    {
     "cell_type": "code",
     "collapsed": false,
     "input": [
      "def converge(rn, r, epsilon=.01):\n",
      "    return norm1(np.subtract(rn, r)) <= epsilon"
     ],
     "language": "python",
     "metadata": {},
     "outputs": [],
     "prompt_number": 70
    },
    {
     "cell_type": "code",
     "collapsed": false,
     "input": [
      "def initialize_r0(n):\n",
      "    r0 = np.empty(n)\n",
      "    r0.fill(1./n)\n",
      "    return r0"
     ],
     "language": "python",
     "metadata": {},
     "outputs": [],
     "prompt_number": 91
    },
    {
     "cell_type": "code",
     "collapsed": false,
     "input": [
      "# edges -> array of tuples in form (from, to)\n",
      "def nodes(links):\n",
      "    return list(set([e for l in links for e in l]))  "
     ],
     "language": "python",
     "metadata": {},
     "outputs": [],
     "prompt_number": 92
    },
    {
     "cell_type": "code",
     "collapsed": false,
     "input": [
      "# links -> array of tuples represeting edges\n",
      "# returns array of number of outstanding edges\n",
      "def degree(links):\n",
      "    outgoing = [l for l, _ in links]\n",
      "    N = len(nodes(links))\n",
      "    o = np.zeros(N)\n",
      "    for n in outgoing:\n",
      "        o[n-1] += 1\n",
      "    return o"
     ],
     "language": "python",
     "metadata": {},
     "outputs": [],
     "prompt_number": 93
    },
    {
     "cell_type": "code",
     "collapsed": false,
     "input": [
      "# edges -> array of tuples in form (from, to)\n",
      "def initialize_M(edges):\n",
      "    # find number of nodes\n",
      "    N = len(nodes(edges))\n",
      "    # initialize M to zeros\n",
      "    M = np.zeros((N, N))\n",
      "    # find degree of each node\n",
      "    d = degree(links)\n",
      "    # fill in M using edges i->j with value \n",
      "    for i, j in edges:\n",
      "        M[j-1][i-1] += 1. / d[i-1]\n",
      "    return M"
     ],
     "language": "python",
     "metadata": {},
     "outputs": [],
     "prompt_number": 94
    },
    {
     "cell_type": "code",
     "collapsed": false,
     "input": [
      "N = len(nodes(links))\n",
      "r = initialize_r0(N)\n",
      "M = initialize_M(links)"
     ],
     "language": "python",
     "metadata": {},
     "outputs": [],
     "prompt_number": 95
    },
    {
     "cell_type": "code",
     "collapsed": false,
     "input": [
      "print N\n",
      "print r\n",
      "print M "
     ],
     "language": "python",
     "metadata": {},
     "outputs": [
      {
       "output_type": "stream",
       "stream": "stdout",
       "text": [
        "4\n",
        "[ 0.25  0.25  0.25  0.25]\n",
        "[[ 0.   1.   0.   0. ]\n",
        " [ 0.5  0.   0.   0. ]\n",
        " [ 0.5  0.   0.   1. ]\n",
        " [ 0.   0.   1.   0. ]]\n"
       ]
      }
     ],
     "prompt_number": 96
    },
    {
     "cell_type": "code",
     "collapsed": false,
     "input": [
      "# returns r(t+1)\n",
      "def page_rank_step(M, rt):\n",
      "    return np.dot(M, rt)"
     ],
     "language": "python",
     "metadata": {},
     "outputs": [],
     "prompt_number": 112
    },
    {
     "cell_type": "code",
     "collapsed": false,
     "input": [
      "print page_rank_step(M, r)"
     ],
     "language": "python",
     "metadata": {},
     "outputs": [
      {
       "output_type": "stream",
       "stream": "stdout",
       "text": [
        "[ 0.25   0.125  0.375  0.25 ]\n"
       ]
      }
     ],
     "prompt_number": 113
    },
    {
     "cell_type": "code",
     "collapsed": false,
     "input": [
      "def page_rank(M, r, epsilon = 0.01):\n",
      "    rn = r\n",
      "    while True:\n",
      "        rn = page_rank_step(M, r)\n",
      "        if converge(rn, r, epsilon):\n",
      "            break\n",
      "        else:\n",
      "            r = rn\n",
      "    return rn"
     ],
     "language": "python",
     "metadata": {},
     "outputs": [],
     "prompt_number": 124
    },
    {
     "cell_type": "code",
     "collapsed": false,
     "input": [
      "pg = page_rank(M, r)\n",
      "spg = sum(pg)\n",
      "print pg\n",
      "print spg"
     ],
     "language": "python",
     "metadata": {},
     "outputs": [
      {
       "output_type": "stream",
       "stream": "stdout",
       "text": [
        "[ 0.0078125   0.00390625  0.49609375  0.4921875 ]\n",
        "1.0\n"
       ]
      }
     ],
     "prompt_number": 148
    },
    {
     "cell_type": "code",
     "collapsed": false,
     "input": [
      "def google_rank(beta, M, r, epsilon):\n",
      "    N = len(r)\n",
      "    teleport = (1. - beta)/N\n",
      "    A = np.add(np.multiply(beta, M), teleport)\n",
      "    return page_rank(A, r, epsilon)"
     ],
     "language": "python",
     "metadata": {},
     "outputs": [],
     "prompt_number": 126
    },
    {
     "cell_type": "code",
     "collapsed": false,
     "input": [
      "gr = google_rank(beta, M, r, epsilon = 0.01)\n",
      "sgr = sum(gr)\n",
      "print gr\n",
      "print sgr"
     ],
     "language": "python",
     "metadata": {},
     "outputs": [
      {
       "output_type": "stream",
       "stream": "stdout",
       "text": [
        "[ 0.17006722  0.13581031  0.36418969  0.32993278]\n",
        "1.0\n"
       ]
      }
     ],
     "prompt_number": 149
    },
    {
     "cell_type": "code",
     "collapsed": false,
     "input": [
      "# beta - teleporation probability\n",
      "# M - matrix\n",
      "# r - initial r vector\n",
      "# S - topics\n",
      "# epsilon - converge stop point\n",
      "def topic_spefific_page_rank(beta, M, r, S, epsilon):\n",
      "    N = len(r)\n",
      "    Slen = len(S)\n",
      "    teleport = (1. - beta) / Slen\n",
      "    A = np.multiply(beta, M)\n",
      "    for i in S:\n",
      "        for j in range(len(M)):\n",
      "            A[j][i-1] += teleport\n",
      "    print A\n",
      "    r1 =  page_rank_step(A, r)\n",
      "    print r1\n",
      "    print page_rank_step(A, r1)\n",
      "    return page_rank(A, r, epsilon)"
     ],
     "language": "python",
     "metadata": {},
     "outputs": [],
     "prompt_number": 162
    },
    {
     "cell_type": "code",
     "collapsed": false,
     "input": [
      "tspr = topic_spefific_page_rank(beta, M, r, S, epsilon = 0.01)\n",
      "stspr = sum(tspr)\n",
      "print tspr\n",
      "print stspr"
     ],
     "language": "python",
     "metadata": {},
     "outputs": [
      {
       "output_type": "stream",
       "stream": "stdout",
       "text": [
        "[[ 0.15  0.85  0.    0.  ]\n",
        " [ 0.5   0.15  0.    0.  ]\n",
        " [ 0.5   0.15  0.    0.7 ]\n",
        " [ 0.15  0.15  0.7   0.  ]]\n",
        "[ 0.25    0.1625  0.3375  0.25  ]\n",
        "[ 0.175625  0.149375  0.324375  0.298125]\n",
        "[ 0.00348322  0.00267157  0.01464703  0.01383537]\n",
        "0.0346371912303\n"
       ]
      }
     ],
     "prompt_number": 163
    },
    {
     "cell_type": "code",
     "collapsed": false,
     "input": [
      "sum([ 0.25,    0.1625,  0.3375,  0.25])"
     ],
     "language": "python",
     "metadata": {},
     "outputs": [
      {
       "metadata": {},
       "output_type": "pyout",
       "prompt_number": 166,
       "text": [
        "1.0"
       ]
      }
     ],
     "prompt_number": 166
    },
    {
     "cell_type": "markdown",
     "metadata": {},
     "source": [
      "Question Explanation\n",
      "\n",
      "\"the weight assigned for node 1 is twice that of node 2\" means that given a random walker and its current position, its teleport probability to node 1 is twice that to node 2."
     ]
    }
   ],
   "metadata": {}
  }
 ]
}