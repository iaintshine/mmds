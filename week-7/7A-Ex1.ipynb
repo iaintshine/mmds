{
 "metadata": {
  "name": "",
  "signature": "sha256:6443527d8d7a0635dfd4e269a54d8884ff0e1f07436b4e5ad0fd8c552efed7bd"
 },
 "nbformat": 3,
 "nbformat_minor": 0,
 "worksheets": [
  {
   "cells": [
    {
     "cell_type": "code",
     "collapsed": false,
     "input": [
      "we have an LSH family h of (d1,d2,.6,.4) hash functions.\n",
      "We can use three functions from h and the AND-construction to form a (d1,d2,w,x) family, \n",
      "and we can use two functions from h and the OR-construction to form a (d1,d2,y,z) family. \n",
      "Calculate w, x, y, and z, and then identify the correct value of one of these in the list below.\n",
      "z=.16\n",
      "x=..064\n",
      "x=.216\n",
      "x=.784"
     ],
     "language": "python",
     "metadata": {},
     "outputs": []
    },
    {
     "cell_type": "markdown",
     "metadata": {},
     "source": [
      "Claim H = (d1, d2, p1, p2) => (d1, d2, (1-d1), (1-d2)) => \n",
      "p1 = 1 - d1\n",
      "d1 = 1 - p1"
     ]
    },
    {
     "cell_type": "code",
     "collapsed": false,
     "input": [
      "p1 = .6\n",
      "p2 = .4\n",
      "d1 = 1 - p1\n",
      "d2 = 1 - p2"
     ],
     "language": "python",
     "metadata": {},
     "outputs": [],
     "prompt_number": 2
    },
    {
     "cell_type": "code",
     "collapsed": false,
     "input": [
      "r = 3 # AND nr of hash functions\n",
      "b = 2 # OR nr of hash functions"
     ],
     "language": "python",
     "metadata": {},
     "outputs": [],
     "prompt_number": 3
    },
    {
     "cell_type": "markdown",
     "metadata": {},
     "source": [
      "AND of Hash functions \n",
      "(d1, d2, (p1)^r, (p2)^r)"
     ]
    },
    {
     "cell_type": "code",
     "collapsed": false,
     "input": [
      "def calc_and_p(p, r):\n",
      "    return p ** r"
     ],
     "language": "python",
     "metadata": {},
     "outputs": [],
     "prompt_number": 4
    },
    {
     "cell_type": "markdown",
     "metadata": {},
     "source": [
      "OR of Hash functions\n",
      "(d1, d2, 1-(1-p1)^b, 1-(1-p2)^b)"
     ]
    },
    {
     "cell_type": "code",
     "collapsed": false,
     "input": [
      "def calc_or_p(p, b):\n",
      "    return 1 - (1 - p) ** b"
     ],
     "language": "python",
     "metadata": {},
     "outputs": [],
     "prompt_number": 5
    },
    {
     "cell_type": "code",
     "collapsed": false,
     "input": [
      "w, x = calc_and_p(p1, r), calc_and_p(p2, r)\n",
      "y, z = calc_or_p(p1, b), calc_or_p(p2, b)"
     ],
     "language": "python",
     "metadata": {},
     "outputs": [],
     "prompt_number": 7
    },
    {
     "cell_type": "code",
     "collapsed": false,
     "input": [
      "print w\n",
      "print x\n",
      "print y\n",
      "print z"
     ],
     "language": "python",
     "metadata": {},
     "outputs": [
      {
       "output_type": "stream",
       "stream": "stdout",
       "text": [
        "0.216\n",
        "0.064\n",
        "0.84\n",
        "0.64\n"
       ]
      }
     ],
     "prompt_number": 8
    },
    {
     "cell_type": "markdown",
     "metadata": {},
     "source": [
      "x = .064"
     ]
    }
   ],
   "metadata": {}
  }
 ]
}