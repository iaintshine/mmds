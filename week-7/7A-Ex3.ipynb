{
 "metadata": {
  "name": "",
  "signature": "sha256:1b877bbd4ebd003a71c461c4d6a1e33490fc793be10ece01b7469b76a0874904"
 },
 "nbformat": 3,
 "nbformat_minor": 0,
 "worksheets": [
  {
   "cells": [
    {
     "cell_type": "markdown",
     "metadata": {},
     "source": [
      "Consider the link graph\n",
      "1->2; 1->3; 2->1; 3->4; 4->3;"
     ]
    },
    {
     "cell_type": "code",
     "collapsed": false,
     "input": [
      "links = [(1, 2), (1, 3), (2, 1), (3, 4), (4, 3)]"
     ],
     "language": "python",
     "metadata": {},
     "outputs": [],
     "prompt_number": 11
    },
    {
     "cell_type": "markdown",
     "metadata": {},
     "source": [
      "First, construct the L, the link matrix, as on the HITS (Hypertext\u0372Induced Topic Selection) algorithm.\n",
      "Described in the book - chapter 5.5.2\n",
      "\n",
      "> use the link\n",
      "matrix of the Web, L. If we have n pages, then L is an n\u00d7n matrix, and Lij = 1\n",
      "if there is a link from page i to page j, and Lij = 0 if not."
     ]
    },
    {
     "cell_type": "code",
     "collapsed": false,
     "input": [
      "import numpy as np"
     ],
     "language": "python",
     "metadata": {},
     "outputs": [],
     "prompt_number": 12
    },
    {
     "cell_type": "code",
     "collapsed": false,
     "input": [
      "def nodes(links):\n",
      "    \"\"\"Returns a list of all nodes in the graph\n",
      "    \n",
      "    Keyword arguments:\n",
      "    links -- array of tuples in form (from, to)\n",
      "    \"\"\"\n",
      "    return list(set([e for l in links for e in l]))  "
     ],
     "language": "python",
     "metadata": {},
     "outputs": [],
     "prompt_number": 13
    },
    {
     "cell_type": "code",
     "collapsed": false,
     "input": [
      "def construct_L(links):\n",
      "    \"\"\"Constructs HITS link matrix L\n",
      "    \n",
      "    Keyword arguments:\n",
      "    links - array of tuples in form (from, to) representing a graph\n",
      "    \"\"\"\n",
      "    \n",
      "    # find number of nodes in graph\n",
      "    N = len(nodes(links))\n",
      "    # initialize L to zeros\n",
      "    L = np.zeros((N, N))\n",
      "    # fill in L using links i->j\n",
      "    for i, j in links:\n",
      "        L[i-1][j-1] = 1.0\n",
      "    return L"
     ],
     "language": "python",
     "metadata": {},
     "outputs": [],
     "prompt_number": 14
    },
    {
     "cell_type": "code",
     "collapsed": false,
     "input": [
      "N = nodes(links)\n",
      "L = construct_L(links)\n",
      "\n",
      "print N\n",
      "print L"
     ],
     "language": "python",
     "metadata": {},
     "outputs": [
      {
       "output_type": "stream",
       "stream": "stdout",
       "text": [
        "[1, 2, 3, 4]\n",
        "[[ 0.  1.  1.  0.]\n",
        " [ 1.  0.  0.  0.]\n",
        " [ 0.  0.  0.  1.]\n",
        " [ 0.  0.  1.  0.]]\n"
       ]
      }
     ],
     "prompt_number": 15
    },
    {
     "cell_type": "markdown",
     "metadata": {},
     "source": [
      "> We shall also have need for LT, the transpose of L. That is, LT ij = 1 if there is a link from page j to page i, and LT\n",
      "ij = 0 otherwise."
     ]
    },
    {
     "cell_type": "code",
     "collapsed": false,
     "input": [
      "LT = np.transpose(L)\n",
      "\n",
      "print LT"
     ],
     "language": "python",
     "metadata": {},
     "outputs": [
      {
       "output_type": "stream",
       "stream": "stdout",
       "text": [
        "[[ 0.  1.  0.  0.]\n",
        " [ 1.  0.  0.  0.]\n",
        " [ 1.  0.  0.  1.]\n",
        " [ 0.  0.  1.  0.]]\n"
       ]
      }
     ],
     "prompt_number": 16
    },
    {
     "cell_type": "markdown",
     "metadata": {},
     "source": [
      "1. Start by assuming the hubbiness of each node is 1; that is, the vector h is (the transpose of) [1,1,1,1].\n",
      "2. Compute an estimate of the authority vector a=LTh.\n",
      "3. Normalize a by dividing all values so the largest value is 1.\n",
      "4. Compute an estimate of the hubbiness vector h=La.\n",
      "5. Normalize h by dividing all values so the largest value is 1.\n",
      "6. Repeat steps 2-5."
     ]
    },
    {
     "cell_type": "code",
     "collapsed": false,
     "input": [
      "h = np.ones(len(N))\n",
      "print h"
     ],
     "language": "python",
     "metadata": {},
     "outputs": [
      {
       "output_type": "stream",
       "stream": "stdout",
       "text": [
        "[ 1.  1.  1.  1.]\n"
       ]
      }
     ],
     "prompt_number": 17
    },
    {
     "cell_type": "code",
     "collapsed": false,
     "input": [
      "def HITS_step(L, h):\n",
      "    \"\"\"Performs a single HITS algorithm step\n",
      "    \n",
      "    Keyword arguments:\n",
      "    L - Link Matrix\n",
      "    h - hubbiness vector\n",
      "    \n",
      "    returns new tuple in form (hubinness vector, authority vector)\n",
      "    \"\"\"\n",
      "    a = np.dot(np.transpose(L), h)\n",
      "    a = np.divide(a, np.amax(a))\n",
      "    ht = np.dot(L, a)\n",
      "    ht = np.divide(ht, np.amax(ht))\n",
      "    \n",
      "    return (ht, a)"
     ],
     "language": "python",
     "metadata": {},
     "outputs": [],
     "prompt_number": 18
    },
    {
     "cell_type": "code",
     "collapsed": false,
     "input": [
      "for i in range(2):\n",
      "    h, a = HITS_step(L, h)\n",
      "    \n",
      "    print \"step #\", i\n",
      "    print \"h: \", h\n",
      "    print \"a: \", a\n",
      "    print"
     ],
     "language": "python",
     "metadata": {},
     "outputs": [
      {
       "output_type": "stream",
       "stream": "stdout",
       "text": [
        "step # 0\n",
        "h:  [ 1.          0.33333333  0.33333333  0.66666667]\n",
        "a:  [ 0.5  0.5  1.   0.5]\n",
        "\n",
        "step # 1\n",
        "h:  [ 1.     0.125  0.125  0.625]\n",
        "a:  [ 0.2  0.6  1.   0.2]\n",
        "\n"
       ]
      }
     ],
     "prompt_number": 19
    },
    {
     "cell_type": "markdown",
     "metadata": {},
     "source": [
      "Now, identify in the list below the true statement about the final estimates.\n",
      "\n",
      "1. The final estimate of the hubbiness of 3 is 1.\n",
      "2. The final estimate of the authority of 4 is 1.\n",
      "3. The final estimate of the authority of 2 is 3/5.\n",
      "4. The final estimate of the hubbiness of 1 is 3/5."
     ]
    },
    {
     "cell_type": "markdown",
     "metadata": {},
     "source": [
      "Answer: 3"
     ]
    },
    {
     "cell_type": "code",
     "collapsed": false,
     "input": [
      "3/5."
     ],
     "language": "python",
     "metadata": {},
     "outputs": [
      {
       "metadata": {},
       "output_type": "pyout",
       "prompt_number": 20,
       "text": [
        "0.6"
       ]
      }
     ],
     "prompt_number": 20
    },
    {
     "cell_type": "code",
     "collapsed": false,
     "input": [],
     "language": "python",
     "metadata": {},
     "outputs": []
    }
   ],
   "metadata": {}
  }
 ]
}