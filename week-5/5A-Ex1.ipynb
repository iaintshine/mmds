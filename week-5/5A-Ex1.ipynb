{
 "metadata": {
  "name": "",
  "signature": "sha256:a1321359b796d5ba78ff778ca83392baa7c6292ee867a2c12de9416a9860af56"
 },
 "nbformat": 3,
 "nbformat_minor": 0,
 "worksheets": [
  {
   "cells": [
    {
     "cell_type": "markdown",
     "metadata": {},
     "source": [
      "Consider the diagonal matrix M "
     ]
    },
    {
     "cell_type": "code",
     "collapsed": false,
     "input": [
      "M = [[1, 0, 0],\n",
      "     [0, 2, 0],\n",
      "     [0, 0, 0]]"
     ],
     "language": "python",
     "metadata": {},
     "outputs": [],
     "prompt_number": 3
    },
    {
     "cell_type": "markdown",
     "metadata": {},
     "source": [
      " Compute its Moore-Penrose pseudoinverse"
     ]
    },
    {
     "cell_type": "code",
     "collapsed": false,
     "input": [
      "import numpy as np"
     ],
     "language": "python",
     "metadata": {},
     "outputs": [],
     "prompt_number": 15
    },
    {
     "cell_type": "code",
     "collapsed": false,
     "input": [
      "Minv = np.linalg.pinv(M)"
     ],
     "language": "python",
     "metadata": {},
     "outputs": [],
     "prompt_number": 16
    },
    {
     "cell_type": "code",
     "collapsed": false,
     "input": [
      "print Minv"
     ],
     "language": "python",
     "metadata": {},
     "outputs": [
      {
       "output_type": "stream",
       "stream": "stdout",
       "text": [
        "[[ 1.   0.   0. ]\n",
        " [ 0.   0.5  0. ]\n",
        " [ 0.   0.   0. ]]\n"
       ]
      }
     ],
     "prompt_number": 17
    },
    {
     "cell_type": "code",
     "collapsed": false,
     "input": [],
     "language": "python",
     "metadata": {},
     "outputs": []
    }
   ],
   "metadata": {}
  }
 ]
}