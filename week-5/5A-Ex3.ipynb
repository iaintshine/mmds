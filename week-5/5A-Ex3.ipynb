{
 "metadata": {
  "name": "",
  "signature": "sha256:cb876ff10c284ee80213f5dabebd7523c8a91cc41b377762bf99396d6b7c4745"
 },
 "nbformat": 3,
 "nbformat_minor": 0,
 "worksheets": [
  {
   "cells": [
    {
     "cell_type": "markdown",
     "metadata": {},
     "source": [
      "Suppose you are given the following points in two-dimensional Euclidean space:"
     ]
    },
    {
     "cell_type": "code",
     "collapsed": false,
     "input": [
      "x = (0,0); y = (10,10); a = (1,6); b = (3,7); c = (4,3); d = (7,7); e = (8,2); f = (9,5)"
     ],
     "language": "python",
     "metadata": {},
     "outputs": [],
     "prompt_number": 1
    },
    {
     "cell_type": "markdown",
     "metadata": {},
     "source": [
      "Obviously, x and y are furthest apart, so start with these. \n",
      "\n",
      "Name representative set of points rep from now on:"
     ]
    },
    {
     "cell_type": "code",
     "collapsed": false,
     "input": [
      "rep = [x, y]\n",
      "left = [a, b, c, d, e, f]"
     ],
     "language": "python",
     "metadata": {},
     "outputs": [],
     "prompt_number": 2
    },
    {
     "cell_type": "markdown",
     "metadata": {},
     "source": [
      "Let's define a function to calculate next representative point in a manner describe in the body of the excersise:\n",
      "\n",
      ">  That is, begin with the two furthest points, and at each step add the point whose minimum distance to any of the previously selected points is maximum."
     ]
    },
    {
     "cell_type": "code",
     "collapsed": false,
     "input": [
      "import numpy as np\n",
      "\n",
      "def next_point(rep, leftovers):\n",
      "    def min_dist(l):\n",
      "        return min([np.linalg.norm(np.array(l) - np.array(p)) for p in rep])\n",
      "        \n",
      "    m = [min_dist(l) for l in leftovers]\n",
      "    return np.argmax(m), leftovers[np.argmax(m)], max(m)"
     ],
     "language": "python",
     "metadata": {},
     "outputs": [],
     "prompt_number": 3
    },
    {
     "cell_type": "markdown",
     "metadata": {},
     "source": [
      "Now check if it works"
     ]
    },
    {
     "cell_type": "code",
     "collapsed": false,
     "input": [
      "arg, p, dist = next_point(rep, left)\n",
      "print \"Next representative nr #{0}\\n\\t\\tat {1}\\n\\t\\tand distance {2}\".format(arg, p, dist)"
     ],
     "language": "python",
     "metadata": {},
     "outputs": [
      {
       "output_type": "stream",
       "stream": "stdout",
       "text": [
        "Next representative nr #4\n",
        "\t\tat (8, 2)\n",
        "\t\tand distance 8.24621125124\n"
       ]
      }
     ],
     "prompt_number": 4
    },
    {
     "cell_type": "markdown",
     "metadata": {},
     "source": [
      "Ok now iterate over all leftovers vector and find next representative points in the set"
     ]
    },
    {
     "cell_type": "code",
     "collapsed": false,
     "input": [
      "while left:\n",
      "    i, p, _ = next_point(rep, left)\n",
      "    rep.append(p)\n",
      "    left.pop(i)"
     ],
     "language": "python",
     "metadata": {},
     "outputs": [],
     "prompt_number": 5
    },
    {
     "cell_type": "code",
     "collapsed": false,
     "input": [
      "print rep"
     ],
     "language": "python",
     "metadata": {},
     "outputs": [
      {
       "output_type": "stream",
       "stream": "stdout",
       "text": [
        "[(0, 0), (10, 10), (8, 2), (3, 7), (4, 3), (7, 7), (9, 5), (1, 6)]\n"
       ]
      }
     ],
     "prompt_number": 6
    },
    {
     "cell_type": "markdown",
     "metadata": {},
     "source": [
      "So the final order in the set is:\n",
      "\n",
      "[x, y, e, b, c, d, f, a]"
     ]
    },
    {
     "cell_type": "code",
     "collapsed": false,
     "input": [],
     "language": "python",
     "metadata": {},
     "outputs": []
    }
   ],
   "metadata": {}
  }
 ]
}