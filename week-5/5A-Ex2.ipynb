{
 "metadata": {
  "name": "",
  "signature": "sha256:bcb97846fe448bbd0ec5aed0c30b0c246815853152d97169024a8005b2befb1a"
 },
 "nbformat": 3,
 "nbformat_minor": 0,
 "worksheets": [
  {
   "cells": [
    {
     "cell_type": "markdown",
     "metadata": {},
     "source": [
      "In one day, there are 101 click-throughs to be auctioned."
     ]
    },
    {
     "cell_type": "code",
     "collapsed": false,
     "input": [
      "daily_ct = 101"
     ],
     "language": "python",
     "metadata": {},
     "outputs": [],
     "prompt_number": 2
    },
    {
     "cell_type": "markdown",
     "metadata": {},
     "source": [
      "Here is a table of the bids, CTR's for positions 1, 2, and 3, and budget for each advertiser."
     ]
    },
    {
     "cell_type": "markdown",
     "metadata": {},
     "source": [
      "Now we need to calculate expected revenue for each of advertisers"
     ]
    },
    {
     "cell_type": "code",
     "collapsed": false,
     "input": [
      "budget = [1, 2, 3, 4, 5]\n",
      "bid  = [.10, .09, .08, .07, .06]\n",
      "ctr1 = [.015, .016, .017, .018, .019]\n",
      "ctr2 = [.010 , .012 , .014 , .015 , .016]\n",
      "ctr3 = [.005, .006, .007, .008, .010]"
     ],
     "language": "python",
     "metadata": {},
     "outputs": [],
     "prompt_number": 4
    },
    {
     "cell_type": "code",
     "collapsed": false,
     "input": [
      "Mctr = [ctr1, ctr2, ctr3]"
     ],
     "language": "python",
     "metadata": {},
     "outputs": [],
     "prompt_number": 5
    },
    {
     "cell_type": "code",
     "collapsed": false,
     "input": [
      "print Mctr"
     ],
     "language": "python",
     "metadata": {},
     "outputs": [
      {
       "output_type": "stream",
       "stream": "stdout",
       "text": [
        "[[0.015, 0.016, 0.017, 0.018, 0.019], [0.01, 0.012, 0.014, 0.015, 0.016], [0.005, 0.006, 0.007, 0.008, 0.01]]\n"
       ]
      }
     ],
     "prompt_number": 6
    },
    {
     "cell_type": "code",
     "collapsed": false,
     "input": [
      "import numpy as np\n",
      "revenue = np.multiply(Mctr, np.multiply(bid, 100))"
     ],
     "language": "python",
     "metadata": {},
     "outputs": [],
     "prompt_number": 15
    },
    {
     "cell_type": "code",
     "collapsed": false,
     "input": [
      "print revenue"
     ],
     "language": "python",
     "metadata": {},
     "outputs": [
      {
       "output_type": "stream",
       "stream": "stdout",
       "text": [
        "[[ 0.15   0.144  0.136  0.126  0.114]\n",
        " [ 0.1    0.108  0.112  0.105  0.096]\n",
        " [ 0.05   0.054  0.056  0.056  0.06 ]]\n"
       ]
      }
     ],
     "prompt_number": 16
    },
    {
     "cell_type": "code",
     "collapsed": false,
     "input": [
      "print np.transpose(revenue)\n"
     ],
     "language": "python",
     "metadata": {},
     "outputs": [
      {
       "output_type": "stream",
       "stream": "stdout",
       "text": [
        "[[ 0.15   0.1    0.05 ]\n",
        " [ 0.144  0.108  0.054]\n",
        " [ 0.136  0.112  0.056]\n",
        " [ 0.126  0.105  0.056]\n",
        " [ 0.114  0.096  0.06 ]]\n"
       ]
      }
     ],
     "prompt_number": 17
    },
    {
     "cell_type": "code",
     "collapsed": false,
     "input": [
      "def assign_slots(revenue, budget, bid):\n",
      "    slots = []\n",
      "    for ctr_id, ctr_revenues in enumerate(revenue):\n",
      "        max_revenue = 0\n",
      "        max_advertiser_id = -1\n",
      "        \n",
      "        for advertiser_id, expected_revenue in enumerate(ctr_revenues):\n",
      "            if (\n",
      "                    budget[advertiser_id] > bid[advertiser_id] and \n",
      "                    advertiser_id not in map(lambda s: s[0], slots) and \n",
      "                    max_revenue < expected_revenue\n",
      "            ):\n",
      "                max_revenue = expected_revenue\n",
      "                max_advertiser_id = advertiser_id\n",
      "        \n",
      "        slots.append((max_advertiser_id, max_revenue))\n",
      "    return slots\n",
      "            \n",
      "            "
     ],
     "language": "python",
     "metadata": {},
     "outputs": [],
     "prompt_number": 37
    },
    {
     "cell_type": "code",
     "collapsed": false,
     "input": [
      "assign_slots(revenue, budget, bid)"
     ],
     "language": "python",
     "metadata": {},
     "outputs": [
      {
       "metadata": {},
       "output_type": "pyout",
       "prompt_number": 38,
       "text": [
        "[(0, 0.14999999999999999), (2, 0.112), (4, 0.059999999999999998)]"
       ]
      }
     ],
     "prompt_number": 38
    },
    {
     "cell_type": "code",
     "collapsed": false,
     "input": [
      "def phase(daily_ct, Mctr, Mrevenue, budget, bid):\n",
      "    def num_ct(advertiser):\n",
      "        return np.rint(budget[advertiser] / bid[advertiser])\n",
      "    \n",
      "    print num_ct(0)\n",
      "    slots = assign_slots(Mrevenue, budget, bid)\n",
      "    advertisers = map(lambda s: s[0], slots)\n",
      "    \n",
      "    return map(lambda a: num_ct(a), advertisers)\n",
      "    "
     ],
     "language": "python",
     "metadata": {},
     "outputs": [],
     "prompt_number": 57
    },
    {
     "cell_type": "code",
     "collapsed": false,
     "input": [
      "phase(daily_ct, Mctr, revenue, budget, bid)"
     ],
     "language": "python",
     "metadata": {},
     "outputs": [
      {
       "output_type": "stream",
       "stream": "stdout",
       "text": [
        "10.0\n"
       ]
      },
      {
       "metadata": {},
       "output_type": "pyout",
       "prompt_number": 58,
       "text": [
        "[10.0, 38.0, 83.0]"
       ]
      }
     ],
     "prompt_number": 58
    },
    {
     "cell_type": "code",
     "collapsed": false,
     "input": [],
     "language": "python",
     "metadata": {},
     "outputs": []
    }
   ],
   "metadata": {}
  }
 ]
}